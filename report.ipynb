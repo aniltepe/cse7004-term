{
 "cells": [
  {
   "cell_type": "markdown",
   "metadata": {},
   "source": [
    "### 1. Introduction\n",
    "\n",
    "In this report, three methods compared to each other in Maximum-weighted independent set problem. First method is solving the problem with Gurobi Optimizer. Second one is solving the problem with a greedy heuristic algorithm. The last method is genetic algorithm. For the comparison, 20 graphs with the various number of nodes and edges has been generated and used. "
   ]
  },
  {
   "cell_type": "markdown",
   "metadata": {},
   "source": [
    "### 2. Graph Generation\n",
    "\n",
    "For the comparison of the optimization methods, 20 graphs has been generated. <ins>**create_graph_file.py**</ins> script is created for this task. This script simply takes number of nodes, edge density value and output path as arguments and creates a text file which includes properties of the graph, in the format of graph_&lt;numberofnodes&gt;_&lt;density&gt;.txt."
   ]
  },
  {
   "cell_type": "markdown",
   "metadata": {},
   "source": [
    "### 3. Optimization Methods\n",
    "\n",
    "For the MWIS problem, three optimization technique has been used for the each graph. Also total elapsed time for each calculation has been recorded."
   ]
  },
  {
   "cell_type": "markdown",
   "metadata": {},
   "source": [
    "### 3.1. Gurobi Optimizer\n",
    "\n",
    "The first method for the MWISP is Gurobi MIP Solver. <ins>**solve_mwisp_gurobi.py**</ins> script is created for this task. Each optimization for each graph, completed within the time limit, which is 30 minutes. So, each solution is optimal solution. The table below, shows the objective values of the solutions and the number of nodes in the maximum-weighted independent set."
   ]
  },
  {
   "cell_type": "markdown",
   "metadata": {},
   "source": [
    "|Graph File       |Objective Value      |Elapsed Time (sec.)   |Number of Nodes|\n",
    "|-----|-----|-----|-----|\n",
    "|graph_50_0.1.txt |11.83 \t            | 0.05 \t              |20 |\n",
    "|graph_50_0.3.txt |6.00 \t            | 0.07 \t              |8  |\n",
    "|graph_50_0.5.txt |4.95 \t            | 0.04 \t              |8  |\n",
    "|graph_50_0.7.txt |2.97 \t            | 0.05 \t              |4  |\n",
    "|graph_50_0.9.txt |2.70 \t            | 0.02 \t              |3  |\n",
    "|graph_100_0.1.txt|17.56 \t            | 0.11 \t              |27 |\n",
    "|graph_100_0.3.txt|9.15 \t            | 0.26 \t              |14 |\n",
    "|graph_100_0.5.txt|5.96 \t            | 0.24 \t              |9  |\n",
    "|graph_100_0.7.txt|4.71 \t            | 0.15 \t              |6  |\n",
    "|graph_100_0.9.txt|3.42 \t            | 0.10 \t              |4  |\n",
    "|graph_150_0.1.txt|21.80 \t            | 0.70 \t              |33 |\n",
    "|graph_150_0.3.txt|11.21 \t            | 1.06 \t              |15 |\n",
    "|graph_150_0.5.txt|7.24 \t            | 1.27 \t              |10 |\n",
    "|graph_150_0.7.txt|4.78 \t            | 1.12 \t              |6  |\n",
    "|graph_150_0.9.txt|3.41 \t            | 0.25 \t              |5  |\n",
    "|graph_200_0.1.txt|23.32 \t            | 13.99 \t          |34 |\n",
    "|graph_200_0.3.txt|12.08 \t            | 7.32 \t              |16 |\n",
    "|graph_200_0.5.txt|7.97 \t            | 5.37 \t              |11 |\n",
    "|graph_200_0.7.txt|5.35 \t            | 3.72 \t              |6  |\n",
    "|graph_200_0.9.txt|3.24 \t            | 1.17 \t              |4  |"
   ]
  },
  {
   "cell_type": "markdown",
   "metadata": {},
   "source": [
    "### 3.2. Greedy Heuristic Solver\n",
    "\n",
    "The second technique is a greedy heuristic solver. <ins>**solve_mwisp_greedy.py**</ins> script is created for this task. The pesudo-code of the implemented greedy heuristic for this solver:<br>\n",
    "<br>\n",
    "G = input graph<br>\n",
    "S = []<br>\n",
    "While G has nodes<br>\n",
    "    &nbsp;&nbsp;&nbsp;&nbsp;M = maximum weighted node in G<br>\n",
    "    &nbsp;&nbsp;&nbsp;&nbsp;If M is not adjacent to a vertex in S<br>\n",
    "    &nbsp;&nbsp;&nbsp;&nbsp;&nbsp;&nbsp;&nbsp;&nbsp;    S = S + {M}<br>\n",
    "    &nbsp;&nbsp;&nbsp;&nbsp;G = G - {M}<br>\n",
    "<br>\n",
    "The solutions obtained from this technique are sub-optimal solutions. The table below, shows the objective values of the solutions and the number of nodes in the maximum-weighted independent set."
   ]
  },
  {
   "cell_type": "markdown",
   "metadata": {},
   "source": [
    "|Graph File       |Objective Value      |Elapsed Time (sec.)   |Number of Nodes|\n",
    "|-----|-----|-----|-----|\n",
    "|graph_50_0.1.txt |10.20 \t            | 0.004\t              |18 |\n",
    "|graph_50_0.3.txt |5.22 \t            | 0.002\t              |8  |\n",
    "|graph_50_0.5.txt |3.80 \t            | 0.002\t              |5  |\n",
    "|graph_50_0.7.txt |2.52 \t            | 0.002\t              |3  |\n",
    "|graph_50_0.9.txt |2.70 \t            | 0.002\t              |3  |\n",
    "|graph_100_0.1.txt|16.81 \t            | 0.021\t              |25 |\n",
    "|graph_100_0.3.txt|8.18 \t            | 0.017\t              |11 |\n",
    "|graph_100_0.5.txt|4.69 \t            | 0.033\t              |6  |\n",
    "|graph_100_0.7.txt|3.48 \t            | 0.018\t              |4  |\n",
    "|graph_100_0.9.txt|1.94 \t            | 0.000\t              |2  |\n",
    "|graph_150_0.1.txt|18.87 \t            | 0.083\t              |26 |\n",
    "|graph_150_0.3.txt|7.84  \t            | 0.076\t              |11 |\n",
    "|graph_150_0.5.txt|6.61 \t            | 0.110\t              |8  |\n",
    "|graph_150_0.7.txt|3.19 \t            | 0.053\t              |4  |\n",
    "|graph_150_0.9.txt|2.19 \t            | 0.068\t              |3  |\n",
    "|graph_200_0.1.txt|19.41 \t            | 0.180 \t          |26 |\n",
    "|graph_200_0.3.txt|10.73 \t            | 0.275\t              |13 |\n",
    "|graph_200_0.5.txt|6.93 \t            | 0.294\t              |9  |\n",
    "|graph_200_0.7.txt|3.96 \t            | 0.193\t              |5  |\n",
    "|graph_200_0.9.txt|2.74 \t            | 0.146\t              |3  |"
   ]
  },
  {
   "cell_type": "markdown",
   "metadata": {},
   "source": [
    "### 3.3. Genetic Algorithm\n",
    "\n",
    "The last technique is genetic algorithms. <ins>**solve_mwisp_genetic.py**</ins> script is created for this task. The pesudo-code of the repair function in this technique:<br>\n",
    "<br>\n",
    "I = invalid individual in the population (infeasible solution)<br>\n",
    "for i = 0 ; i < number of genes in I<br>\n",
    "    &nbsp;&nbsp;&nbsp;&nbsp;for j = i + 1 ; j < number of genes in I<br>\n",
    "    &nbsp;&nbsp;&nbsp;&nbsp;&nbsp;&nbsp;&nbsp;&nbsp;If both i and j is equal to 1 (i and j are in the independent set)<br>\n",
    "    &nbsp;&nbsp;&nbsp;&nbsp;&nbsp;&nbsp;&nbsp;&nbsp;And i and j are neighbor in the graph G<br>\n",
    "    &nbsp;&nbsp;&nbsp;&nbsp;&nbsp;&nbsp;&nbsp;&nbsp;Then j = 0 (remove j from the independent set)<br>\n",
    "<br>\n",
    "Also note that, the algorithm has been adjusted in order to, end the algorithm and return the best solution so far, if the best solution has not been improved since last K=20 generations. For the mutation operation, k=1 bit flip for a individual has been done. In this algorithm, 4 experiments with various max. number of generations and size of population has been done. Below tables show the results of this experiments."
   ]
  },
  {
   "cell_type": "markdown",
   "metadata": {},
   "source": [
    "Number of Generations: 50&nbsp;&nbsp;&nbsp;&nbsp;&nbsp;&nbsp;Size of Population: 50\n",
    "\n",
    "|Graph File       |Objective Value      |Elapsed Time (sec.)   |Number of Nodes|\n",
    "|-----|-----|-----|-----|\n",
    "|graph_50_0.1.txt |9.69  \t            | 2.40 \t\t              |17 |\n",
    "|graph_50_0.3.txt |5.60 \t            | 1.67 \t\t              |8  |\n",
    "|graph_50_0.5.txt |3.57 \t            | 1.25 \t\t              |5  |\n",
    "|graph_50_0.7.txt |2.36 \t            | 1.53 \t\t              |4  |\n",
    "|graph_50_0.9.txt |2.40 \t            | 0.84 \t\t              |3  |\n",
    "|graph_100_0.1.txt|11.87 \t            | 23.47 \t              |23 |\n",
    "|graph_100_0.3.txt|6.74 \t            | 26.95 \t              |11 |\n",
    "|graph_100_0.5.txt|3.63 \t            | 19.45 \t              |6  |\n",
    "|graph_100_0.7.txt|3.43 \t            | 10.22 \t              |4  |\n",
    "|graph_100_0.9.txt|2.64 \t            | 5.35 \t\t              |3  |\n",
    "|graph_150_0.1.txt|12.12 \t            | 57.32 \t              |23 |\n",
    "|graph_150_0.3.txt|7.60  \t            | 115.05\t              |12 |\n",
    "|graph_150_0.5.txt|5.18 \t            | 87.73 \t              |7  |\n",
    "|graph_150_0.7.txt|3.22 \t            | 55.82 \t              |4  |\n",
    "|graph_150_0.9.txt|2.12 \t            | 19.58 \t              |3  |\n",
    "|graph_200_0.1.txt|15.09 \t            | 168.31 \t              |27 |\n",
    "|graph_200_0.3.txt|6.59  \t            | 168.07\t              |12 |\n",
    "|graph_200_0.5.txt|5.46 \t            | 225.62\t              |8  |\n",
    "|graph_200_0.7.txt|3.84 \t            | 126.15\t              |5  |\n",
    "|graph_200_0.9.txt|2.17 \t            | 34.97 \t              |3  |"
   ]
  },
  {
   "cell_type": "markdown",
   "metadata": {},
   "source": [
    "Number of Generations: 50&nbsp;&nbsp;&nbsp;&nbsp;&nbsp;&nbsp;Size of Population: 100\n",
    "\n",
    "|Graph File       |Objective Value      |Elapsed Time (sec.)   |Number of Nodes|\n",
    "|-----|-----|-----|-----|\n",
    "|graph_50_0.1.txt |8.28  \t            | 2.50 \t\t              |15 |\n",
    "|graph_50_0.3.txt |5.52 \t            | 8.47 \t\t              |8  |\n",
    "|graph_50_0.5.txt |3.83 \t            | 2.65 \t\t              |5  |\n",
    "|graph_50_0.7.txt |2.41 \t            | 2.07 \t\t              |3  |\n",
    "|graph_50_0.9.txt |2.40 \t            | 1.61 \t\t              |3  |\n",
    "|graph_100_0.1.txt|13.88 \t            | 62.13 \t              |23 |\n",
    "|graph_100_0.3.txt|7.04 \t            | 42.76 \t              |10 |\n",
    "|graph_100_0.5.txt|4.23 \t            | 61.03 \t              |6  |\n",
    "|graph_100_0.7.txt|3.64 \t            | 24.12 \t              |5  |\n",
    "|graph_100_0.9.txt|2.64 \t            | 10.53 \t              |3  |\n",
    "|graph_150_0.1.txt|13.93 \t            | 336.96\t              |27 |\n",
    "|graph_150_0.3.txt|7.47  \t            | 269.96\t              |12 |\n",
    "|graph_150_0.5.txt|5.99 \t            | 135.11\t              |9  |\n",
    "|graph_150_0.7.txt|2.78 \t            | 72.70 \t              |4  |\n",
    "|graph_150_0.9.txt|2.26 \t            | 37.08 \t              |4  |\n",
    "|graph_200_0.1.txt|13.85 \t            | 318.59 \t              |24 |\n",
    "|graph_200_0.3.txt|7.70  \t            | 548.28\t              |11 |\n",
    "|graph_200_0.5.txt|5.96 \t            | 621.99\t              |9  |\n",
    "|graph_200_0.7.txt|3.89 \t            | 275.16\t              |6  |\n",
    "|graph_200_0.9.txt|2.29 \t            | 74.07 \t              |3  |"
   ]
  },
  {
   "cell_type": "markdown",
   "metadata": {},
   "source": [
    "Number of Generations: 100&nbsp;&nbsp;&nbsp;&nbsp;&nbsp;&nbsp;Size of Population: 50\n",
    "\n",
    "|Graph File       |Objective Value      |Elapsed Time (sec.)   |Number of Nodes|\n",
    "|-----|-----|-----|-----|\n",
    "|graph_50_0.1.txt |7.98  \t            | 2.54 \t\t              |17 |\n",
    "|graph_50_0.3.txt |5.86 \t            | 3.70 \t\t              |9  |\n",
    "|graph_50_0.5.txt |4.31 \t            | 2.52 \t\t              |6  |\n",
    "|graph_50_0.7.txt |2.60 \t            | 0.98 \t\t              |5  |\n",
    "|graph_50_0.9.txt |2.31 \t            | 0.85 \t\t              |3  |\n",
    "|graph_100_0.1.txt|11.88 \t            | 21.67 \t              |20 |\n",
    "|graph_100_0.3.txt|7.75 \t            | 19.58 \t              |10 |\n",
    "|graph_100_0.5.txt|3.32 \t            | 14.78 \t              |6  |\n",
    "|graph_100_0.7.txt|3.46 \t            | 9.36 \t\t              |4  |\n",
    "|graph_100_0.9.txt|2.64 \t            | 5.30 \t\t              |3  |\n",
    "|graph_150_0.1.txt|13.65 \t            | 124.13\t              |25 |\n",
    "|graph_150_0.3.txt|6.91  \t            | 103.93\t              |10 |\n",
    "|graph_150_0.5.txt|5.41 \t            | 64.23 \t              |8  |\n",
    "|graph_150_0.7.txt|3.59 \t            | 34.10 \t              |4  |\n",
    "|graph_150_0.9.txt|2.35 \t            | 24.13 \t              |3  |\n",
    "|graph_200_0.1.txt|14.12 \t            | 167.94 \t              |25 |\n",
    "|graph_200_0.3.txt|7.52  \t            | 329.75\t              |12 |\n",
    "|graph_200_0.5.txt|4.96 \t            | 201.28\t              |7  |\n",
    "|graph_200_0.7.txt|3.89 \t            | 96.84 \t              |6  |\n",
    "|graph_200_0.9.txt|2.05 \t            | 40.88 \t              |3  |"
   ]
  },
  {
   "cell_type": "markdown",
   "metadata": {},
   "source": [
    "Number of Generations: 100&nbsp;&nbsp;&nbsp;&nbsp;&nbsp;&nbsp;Size of Population: 100\n",
    "\n",
    "|Graph File       |Objective Value      |Elapsed Time (sec.)   |Number of Nodes|\n",
    "|-----|-----|-----|-----|\n",
    "|graph_50_0.1.txt |8.97  \t            | 5.58 \t\t              |17 |\n",
    "|graph_50_0.3.txt |5.67 \t            | 6.49 \t\t              |8  |\n",
    "|graph_50_0.5.txt |4.31 \t            | 4.58 \t\t              |6  |\n",
    "|graph_50_0.7.txt |2.36 \t            | 1.95 \t\t              |4  |\n",
    "|graph_50_0.9.txt |2.31 \t            | 1.65 \t\t              |3  |\n",
    "|graph_100_0.1.txt|13.86 \t            | 68.08 \t              |26 |\n",
    "|graph_100_0.3.txt|6.77 \t            | 42.07 \t              |12 |\n",
    "|graph_100_0.5.txt|3.84 \t            | 30.09 \t              |6  |\n",
    "|graph_100_0.7.txt|3.46 \t            | 21.60 \t              |4  |\n",
    "|graph_100_0.9.txt|2.64 \t            | 10.41 \t              |3  |\n",
    "|graph_150_0.1.txt|12.63 \t            | 164.51\t              |23 |\n",
    "|graph_150_0.3.txt|7.42  \t            | 237.08\t              |12 |\n",
    "|graph_150_0.5.txt|5.55 \t            | 118.07\t              |8  |\n",
    "|graph_150_0.7.txt|3.59 \t            | 80.39 \t              |5  |\n",
    "|graph_150_0.9.txt|2.26 \t            | 47.15 \t              |4  |\n",
    "|graph_200_0.1.txt|15.73 \t            | 762.90 \t              |27 |\n",
    "|graph_200_0.3.txt|7.66  \t            | 694.41\t              |11 |\n",
    "|graph_200_0.5.txt|5.38 \t            | 436.38\t              |8  |\n",
    "|graph_200_0.7.txt|3.89 \t            | 329.73\t              |6  |\n",
    "|graph_200_0.9.txt|2.48 \t            | 87.11 \t              |4  |"
   ]
  },
  {
   "cell_type": "markdown",
   "metadata": {},
   "source": [
    "### 4. Conclusion\n",
    "\n",
    "As expected, Gurobi MIP solver yields the optimal solutions in a reasonable time. Greedy heuristic is the fastest solver but doesn't deliver the optimal solution. In the other hand, genetic algorithm is both slowest and the worst in the mean of optimality of the solutions. Only the graphs with the sparse set of edges is better in the genetic algorithm, compared to greedy heuristic. In the dense graphs, genetic algorithm failed to find optimal solutions, this probably caused by the loss of randomness. k=1 bit flip for the mutation is not enough and probably repaired after the mutation. Also, all of the solving process has been aborted because of the K=20 generations. Some of the processes, specially the ones with the sparse graphs, has not been improved since first generation, which is the initial population (see the last cells of <ins>**main.ipynb**</ins>). This shows the loss of randomness once again. The larger size of population is significantly better in the genetic algorithms for this problem, but takes more time as expected. The bigger number of maximum generations has no effect because of the abortion by K=20.\n",
    "\n",
    "In <ins>**results.xlsx**</ins> file, the comparison of the solvers can be seen more detailed."
   ]
  }
 ],
 "metadata": {
  "language_info": {
   "name": "python"
  }
 },
 "nbformat": 4,
 "nbformat_minor": 2
}
