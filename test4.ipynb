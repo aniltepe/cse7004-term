{
 "cells": [
  {
   "cell_type": "code",
   "execution_count": 1,
   "metadata": {},
   "outputs": [],
   "source": [
    "import sys\n",
    "import random"
   ]
  },
  {
   "cell_type": "code",
   "execution_count": 2,
   "metadata": {},
   "outputs": [],
   "source": [
    "graphs_dir = './graphs_backup'\n",
    "graph_name = 'graph_50_0.1.txt'\n",
    "f = open(f'{graphs_dir}/{graph_name}', 'r')\n",
    "lines = f.read().split('\\n')\n",
    "no_of_nodes = int(lines[0])\n",
    "no_of_edges = int(lines[1])\n",
    "weights = [float(lines[i].split(' ')[1]) for i in range(2, no_of_nodes + 2)]\n",
    "edges = [(int(lines[i].split(' ')[0]), int(lines[i].split(' ')[1])) for i in range(no_of_nodes + 2, no_of_nodes + no_of_edges + 2)]"
   ]
  },
  {
   "cell_type": "code",
   "execution_count": 3,
   "metadata": {},
   "outputs": [],
   "source": [
    "random.seed(1)"
   ]
  },
  {
   "cell_type": "code",
   "execution_count": 4,
   "metadata": {},
   "outputs": [],
   "source": [
    "no_of_gens = 50\n",
    "pop_size = 50\n",
    "cross_prob = 0.5\n",
    "mut_prob = 1 / no_of_nodes\n",
    "init_pop = [[float(random.random() > 0.5) for n in range(no_of_nodes)] for i in range(pop_size)]\n",
    "next_pop = []\n",
    "best_slns = []\n",
    "best_sln = (0, 0)"
   ]
  },
  {
   "cell_type": "code",
   "execution_count": 5,
   "metadata": {},
   "outputs": [],
   "source": [
    "def validation2(indiv):\n",
    "    for i in range(len(indiv)):\n",
    "        if indiv[i] == 0.0:\n",
    "            continue\n",
    "        neighbor = [((i, j) in edges or (j, i) in edges) for j in range(i + 1, len(indiv)) if indiv[j] == 1.0]\n",
    "        print(i, len(neighbor), neighbor)\n",
    "        if any(neighbor):\n",
    "            return False\n",
    "    return True"
   ]
  },
  {
   "cell_type": "code",
   "execution_count": 6,
   "metadata": {},
   "outputs": [],
   "source": [
    "def validation(indiv):\n",
    "    for i in range(len(indiv)):\n",
    "        if indiv[i] == 0.0:\n",
    "            continue\n",
    "        for j in range(i + 1, len(indiv)):\n",
    "            if ((i, j) in edges or (j, i) in edges) and indiv[j] == 1.0:\n",
    "                return False\n",
    "    return True"
   ]
  },
  {
   "cell_type": "code",
   "execution_count": 7,
   "metadata": {},
   "outputs": [],
   "source": [
    "def repair(indiv):\n",
    "    for i in range(len(indiv)):\n",
    "        if indiv[i] == 0.0:\n",
    "            continue\n",
    "        for j in range(i + 1, len(indiv)):\n",
    "            if ((i, j) in edges or (j, i) in edges) and indiv[j] == 1.0:\n",
    "                indiv[j] = 0.0\n",
    "    return indiv"
   ]
  },
  {
   "cell_type": "code",
   "execution_count": 8,
   "metadata": {},
   "outputs": [],
   "source": [
    "def repair_pop(population):\n",
    "    repaired = []\n",
    "    for individual in population:\n",
    "        valid = validation(individual)\n",
    "        if valid:\n",
    "            repaired.append(individual)\n",
    "        else:\n",
    "            repaired.append(repair(individual))\n",
    "    return repaired"
   ]
  },
  {
   "cell_type": "code",
   "execution_count": 9,
   "metadata": {},
   "outputs": [],
   "source": [
    "def fitness(indiv):\n",
    "    w = [weights[i] for i in range(len(indiv)) if indiv[i] == 1.0]\n",
    "    return sum(w)"
   ]
  },
  {
   "cell_type": "code",
   "execution_count": 10,
   "metadata": {},
   "outputs": [],
   "source": [
    "def tournament(population, fitness_values):\n",
    "    mating_pool = []\n",
    "    k = 2\n",
    "    while len(mating_pool) < pop_size:\n",
    "        indivs = random.sample(range(pop_size), k)\n",
    "        max_indiv_weight = max([fitness_values[indiv] for indiv in indivs])\n",
    "        max_fit_indiv = [indiv for indiv in indivs if fitness_values[indiv] == max_indiv_weight][0]\n",
    "        mating_pool.append(population[max_fit_indiv])\n",
    "    return mating_pool"
   ]
  },
  {
   "cell_type": "code",
   "execution_count": 11,
   "metadata": {},
   "outputs": [],
   "source": [
    "def crossover(population):\n",
    "    offsprings = []\n",
    "    for i in range(0, len(population), 2):\n",
    "        parent1 = population[i]\n",
    "        parent2 = population[i + 1]\n",
    "        if random.random() < cross_prob:\n",
    "            offspring1 = []\n",
    "            offspring2 = []\n",
    "            for n in range(no_of_nodes):\n",
    "                if random.random() < 0.5:\n",
    "                    offspring1.append(parent1[n])\n",
    "                    offspring2.append(parent2[n])\n",
    "                else:\n",
    "                    offspring1.append(parent2[n])\n",
    "                    offspring2.append(parent1[n])\n",
    "            offsprings.append(offspring1)\n",
    "            offsprings.append(offspring2)\n",
    "        else:\n",
    "            offsprings.append(parent1)\n",
    "            offsprings.append(parent2)\n",
    "    return offsprings"
   ]
  },
  {
   "cell_type": "code",
   "execution_count": 12,
   "metadata": {},
   "outputs": [],
   "source": [
    "def mutation(population):\n",
    "    mutated = []\n",
    "    k = 1\n",
    "    for indiv in population:\n",
    "        if random.random() < mut_prob:\n",
    "            mutated_indiv = indiv\n",
    "            gene = random.sample(range(no_of_nodes), k)\n",
    "            for g in gene:\n",
    "                mutated_indiv[g] = 1.0 - mutated_indiv[g]\n",
    "            mutated.append(mutated_indiv)\n",
    "        else:\n",
    "            mutated.append(indiv)\n",
    "    return mutated"
   ]
  },
  {
   "cell_type": "code",
   "execution_count": 13,
   "metadata": {},
   "outputs": [
    {
     "name": "stdout",
     "output_type": "stream",
     "text": [
      "best solution has not improved in the last K=20 generations since Gen. # 30\n"
     ]
    }
   ],
   "source": [
    "next_pop = repair_pop(init_pop)\n",
    "K = 20\n",
    "\n",
    "for G in range(no_of_gens + 2):\n",
    "    curr_pop = next_pop\n",
    "    fitness_values = [fitness(indiv) for indiv in curr_pop]\n",
    "    max_fitness = max(fitness_values)\n",
    "    best_slns.append([indiv for indiv in curr_pop if fitness(indiv) == max_fitness][0])\n",
    "    if G > best_sln[1] + K and max([fitness(sln) for sln in best_slns[-K:]]) <= best_sln[0]:\n",
    "        print(\"best solution has not improved in the last K=20 generations since Gen. #\" + best_sln[1])\n",
    "        break\n",
    "    if max_fitness > best_sln[0]:\n",
    "        best_sln = (max_fitness, G)\n",
    "    mating_pool = tournament(curr_pop, fitness_values)\n",
    "    offsprings = crossover(mating_pool)\n",
    "    mutated = mutation(offsprings)\n",
    "    next_pop = repair_pop(mutated)"
   ]
  },
  {
   "cell_type": "code",
   "execution_count": 14,
   "metadata": {},
   "outputs": [
    {
     "name": "stdout",
     "output_type": "stream",
     "text": [
      "0 8.69\n",
      "1 9.37\n",
      "2 9.29\n",
      "3 9.29\n",
      "4 9.29\n",
      "5 9.6\n",
      "6 9.73\n",
      "7 9.74\n",
      "8 9.84\n",
      "9 10.29\n",
      "10 10.29\n",
      "11 10.29\n",
      "12 10.29\n",
      "13 10.29\n",
      "14 10.29\n",
      "15 10.29\n",
      "16 10.29\n",
      "17 10.29\n",
      "18 10.29\n",
      "19 10.29\n",
      "20 10.29\n",
      "21 10.29\n",
      "22 10.29\n",
      "23 10.29\n",
      "24 10.29\n",
      "25 10.29\n",
      "26 10.29\n",
      "27 10.29\n",
      "28 10.29\n",
      "29 10.29\n",
      "30 10.37\n",
      "31 10.37\n",
      "32 10.37\n",
      "33 10.37\n",
      "34 10.37\n",
      "35 10.37\n",
      "36 10.37\n",
      "37 10.37\n",
      "38 10.37\n",
      "39 10.37\n",
      "40 9.51\n",
      "41 10.37\n",
      "42 10.37\n",
      "43 10.37\n",
      "44 10.37\n",
      "45 10.37\n",
      "46 10.37\n",
      "47 10.37\n",
      "48 10.37\n",
      "49 10.37\n",
      "50 10.37\n",
      "51 10.37\n"
     ]
    }
   ],
   "source": [
    "for i, s in enumerate(best_slns):\n",
    "    print(i, fitness(s))"
   ]
  }
 ],
 "metadata": {
  "kernelspec": {
   "display_name": "virtualenv",
   "language": "python",
   "name": "python3"
  },
  "language_info": {
   "codemirror_mode": {
    "name": "ipython",
    "version": 3
   },
   "file_extension": ".py",
   "mimetype": "text/x-python",
   "name": "python",
   "nbconvert_exporter": "python",
   "pygments_lexer": "ipython3",
   "version": "3.12.0"
  }
 },
 "nbformat": 4,
 "nbformat_minor": 2
}
