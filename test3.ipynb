{
 "cells": [
  {
   "cell_type": "code",
   "execution_count": 1,
   "metadata": {},
   "outputs": [],
   "source": [
    "import sys"
   ]
  },
  {
   "cell_type": "code",
   "execution_count": 2,
   "metadata": {},
   "outputs": [],
   "source": [
    "from solve_mwisp_greedy import solve as solve_grd\n",
    "from solve_mwisp_genetic import solve as solve_gen\n",
    "from solve_mwisp_gurobi import solve as solve_grb"
   ]
  },
  {
   "cell_type": "code",
   "execution_count": 3,
   "metadata": {},
   "outputs": [],
   "source": [
    "graphs_dir = './graphs_backup'\n",
    "graph_name = 'graph_100_0.1.txt'"
   ]
  },
  {
   "cell_type": "code",
   "execution_count": 4,
   "metadata": {},
   "outputs": [],
   "source": [
    "file_path = f'./{graphs_dir}/{graph_name}'"
   ]
  },
  {
   "cell_type": "code",
   "execution_count": 5,
   "metadata": {},
   "outputs": [
    {
     "data": {
      "text/plain": [
       "{'selected_nodes': [2,\n",
       "  6,\n",
       "  7,\n",
       "  10,\n",
       "  16,\n",
       "  18,\n",
       "  21,\n",
       "  24,\n",
       "  27,\n",
       "  32,\n",
       "  34,\n",
       "  43,\n",
       "  44,\n",
       "  48,\n",
       "  49,\n",
       "  51,\n",
       "  55,\n",
       "  56,\n",
       "  65,\n",
       "  79,\n",
       "  80,\n",
       "  83,\n",
       "  84,\n",
       "  87],\n",
       " 'objective_value': 16.07,\n",
       " 'elapsed_time': 0.057454}"
      ]
     },
     "execution_count": 5,
     "metadata": {},
     "output_type": "execute_result"
    }
   ],
   "source": [
    "out1 = solve_grd(file_path)\n",
    "out1"
   ]
  },
  {
   "cell_type": "code",
   "execution_count": 6,
   "metadata": {},
   "outputs": [
    {
     "name": "stdout",
     "output_type": "stream",
     "text": [
      "best solution has not improved in the last K=20 generations since Gen. 9\n"
     ]
    },
    {
     "data": {
      "text/plain": [
       "{'selected_nodes': [0,\n",
       "  2,\n",
       "  3,\n",
       "  4,\n",
       "  5,\n",
       "  7,\n",
       "  15,\n",
       "  16,\n",
       "  18,\n",
       "  19,\n",
       "  21,\n",
       "  23,\n",
       "  29,\n",
       "  31,\n",
       "  35,\n",
       "  47,\n",
       "  49,\n",
       "  51,\n",
       "  64,\n",
       "  67,\n",
       "  70,\n",
       "  73,\n",
       "  78,\n",
       "  94],\n",
       " 'objective_value': 13.12,\n",
       " 'elapsed_time': 35.022433}"
      ]
     },
     "execution_count": 6,
     "metadata": {},
     "output_type": "execute_result"
    }
   ],
   "source": [
    "out2 = solve_gen(file_path, 50, 50)\n",
    "out2"
   ]
  },
  {
   "cell_type": "code",
   "execution_count": 7,
   "metadata": {},
   "outputs": [
    {
     "name": "stdout",
     "output_type": "stream",
     "text": [
      "Set parameter Username\n",
      "Academic license - for non-commercial use only - expires 2025-02-28\n",
      "Set parameter TimeLimit to value 1800\n",
      "Gurobi Optimizer version 11.0.1 build v11.0.1rc0 (win64 - Windows 11.0 (22631.2))\n",
      "\n",
      "CPU model: AMD Ryzen 5 5500U with Radeon Graphics, instruction set [SSE2|AVX|AVX2]\n",
      "Thread count: 6 physical cores, 12 logical processors, using up to 12 threads\n",
      "\n",
      "Optimize a model with 521 rows, 100 columns and 1042 nonzeros\n",
      "Model fingerprint: 0xc239b879\n",
      "Variable types: 0 continuous, 100 integer (100 binary)\n",
      "Coefficient statistics:\n",
      "  Matrix range     [1e+00, 1e+00]\n",
      "  Objective range  [1e-02, 1e+00]\n",
      "  Bounds range     [1e+00, 1e+00]\n",
      "  RHS range        [1e+00, 1e+00]\n",
      "Found heuristic solution: objective 12.5400000\n",
      "Presolve removed 188 rows and 0 columns\n",
      "Presolve time: 0.00s\n",
      "Presolved: 333 rows, 100 columns, 816 nonzeros\n",
      "Variable types: 0 continuous, 100 integer (100 binary)\n",
      "Found heuristic solution: objective 15.6300000\n",
      "\n",
      "Root relaxation: objective 1.941000e+01, 110 iterations, 0.00 seconds (0.00 work units)\n",
      "\n",
      "    Nodes    |    Current Node    |     Objective Bounds      |     Work\n",
      " Expl Unexpl |  Obj  Depth IntInf | Incumbent    BestBd   Gap | It/Node Time\n",
      "\n",
      "     0     0   19.41000    0   68   15.63000   19.41000  24.2%     -    0s\n",
      "H    0     0                      15.8200000   19.41000  22.7%     -    0s\n",
      "H    0     0                      16.6000000   18.97500  14.3%     -    0s\n",
      "H    0     0                      17.7000000   18.47866  4.40%     -    0s\n",
      "     0     0   18.19000    0   92   17.70000   18.19000  2.77%     -    0s\n",
      "     0     0   18.11000    0   92   17.70000   18.11000  2.32%     -    0s\n",
      "     0     0   18.11000    0   92   17.70000   18.11000  2.32%     -    0s\n",
      "\n",
      "Cutting planes:\n",
      "  Gomory: 2\n",
      "  Clique: 4\n",
      "  Zero half: 21\n",
      "  RLT: 30\n",
      "  BQP: 26\n",
      "\n",
      "Explored 1 nodes (216 simplex iterations) in 0.11 seconds (0.02 work units)\n",
      "Thread count was 12 (of 12 available processors)\n",
      "\n",
      "Solution count 5: 17.7 16.6 15.82 ... 12.54\n",
      "\n",
      "Optimal solution found (tolerance 1.00e-04)\n",
      "Best objective 1.770000000000e+01, best bound 1.770000000000e+01, gap 0.0000%\n"
     ]
    },
    {
     "data": {
      "text/plain": [
       "{'selected_nodes': [5,\n",
       "  6,\n",
       "  7,\n",
       "  10,\n",
       "  11,\n",
       "  16,\n",
       "  18,\n",
       "  21,\n",
       "  27,\n",
       "  32,\n",
       "  43,\n",
       "  49,\n",
       "  51,\n",
       "  52,\n",
       "  55,\n",
       "  56,\n",
       "  58,\n",
       "  63,\n",
       "  64,\n",
       "  67,\n",
       "  69,\n",
       "  70,\n",
       "  73,\n",
       "  76,\n",
       "  80,\n",
       "  84,\n",
       "  87,\n",
       "  93,\n",
       "  97,\n",
       "  98],\n",
       " 'objective_value': 17.700000000000003,\n",
       " 'elapsed_time': 0.127962}"
      ]
     },
     "execution_count": 7,
     "metadata": {},
     "output_type": "execute_result"
    }
   ],
   "source": [
    "out3 = solve_grb(file_path)\n",
    "out3"
   ]
  }
 ],
 "metadata": {
  "kernelspec": {
   "display_name": "virtualenv",
   "language": "python",
   "name": "python3"
  },
  "language_info": {
   "codemirror_mode": {
    "name": "ipython",
    "version": 3
   },
   "file_extension": ".py",
   "mimetype": "text/x-python",
   "name": "python",
   "nbconvert_exporter": "python",
   "pygments_lexer": "ipython3",
   "version": "3.12.0"
  }
 },
 "nbformat": 4,
 "nbformat_minor": 2
}
