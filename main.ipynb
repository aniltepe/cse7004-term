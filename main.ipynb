{
 "cells": [
  {
   "cell_type": "code",
   "execution_count": 1,
   "metadata": {},
   "outputs": [],
   "source": [
    "import sys\n",
    "import os\n",
    "from solve_mwisp_gurobi import solve as solve_grb\n",
    "from solve_mwisp_greedy import solve as solve_gdy\n",
    "from solve_mwisp_genetic import solve as solve_gen"
   ]
  },
  {
   "cell_type": "code",
   "execution_count": 2,
   "metadata": {},
   "outputs": [],
   "source": [
    "GRAPHS_DIR = 'graphs'\n",
    "CREATE_SCRIPT = 'create_graph_file.py'"
   ]
  },
  {
   "cell_type": "code",
   "execution_count": 3,
   "metadata": {},
   "outputs": [],
   "source": [
    "for n in [50, 100, 150, 200]:\n",
    "    for d in [0.1, 0.3, 0.5, 0.7, 0.9]:\n",
    "        sys.argv = [CREATE_SCRIPT, f'{n}', f'{d}', GRAPHS_DIR]  # ex. python create_graph_file.py 50 0.1 graphs\n",
    "        exec(open(CREATE_SCRIPT).read())"
   ]
  },
  {
   "cell_type": "code",
   "execution_count": 4,
   "metadata": {},
   "outputs": [],
   "source": [
    "# list of the names of the graph files sorted by create time, not alphabetically\n",
    "files = os.listdir(GRAPHS_DIR)\n",
    "files.sort(key=lambda x: os.path.getctime(os.path.join(GRAPHS_DIR, x)))"
   ]
  },
  {
   "cell_type": "code",
   "execution_count": 28,
   "metadata": {},
   "outputs": [
    {
     "name": "stdout",
     "output_type": "stream",
     "text": [
      "graph_50_0.1.txt 50 120\n",
      "graph_50_0.3.txt 50 394\n",
      "graph_50_0.5.txt 50 619\n",
      "graph_50_0.7.txt 50 865\n",
      "graph_50_0.9.txt 50 1089\n",
      "graph_100_0.1.txt 100 516\n",
      "graph_100_0.3.txt 100 1460\n",
      "graph_100_0.5.txt 100 2491\n",
      "graph_100_0.7.txt 100 3472\n",
      "graph_100_0.9.txt 100 4440\n",
      "graph_150_0.1.txt 150 1156\n",
      "graph_150_0.3.txt 150 3417\n",
      "graph_150_0.5.txt 150 5521\n",
      "graph_150_0.7.txt 150 7816\n",
      "graph_150_0.9.txt 150 10016\n",
      "graph_200_0.1.txt 200 1988\n",
      "graph_200_0.3.txt 200 5939\n",
      "graph_200_0.5.txt 200 9897\n",
      "graph_200_0.7.txt 200 13938\n",
      "graph_200_0.9.txt 200 17933\n"
     ]
    }
   ],
   "source": [
    "for file_name in files:    \n",
    "    file_path = f'./{GRAPHS_DIR}/{file_name}'\n",
    "    f = open(file_path, 'r')\n",
    "    lines = f.read().split('\\n')\n",
    "    no_of_nodes = int(lines[0])\n",
    "    no_of_edges = int(lines[1])\n",
    "    print(file_name, no_of_nodes, no_of_edges)"
   ]
  },
  {
   "cell_type": "code",
   "execution_count": 15,
   "metadata": {},
   "outputs": [
    {
     "name": "stdout",
     "output_type": "stream",
     "text": [
      "graph_50_0.1.txt 11.83\n",
      "graph_50_0.3.txt 6.0\n",
      "graph_50_0.5.txt 4.949999999999999\n",
      "graph_50_0.7.txt 2.97\n",
      "graph_50_0.9.txt 2.7\n",
      "graph_100_0.1.txt 17.56\n",
      "graph_100_0.3.txt 9.149999999999999\n",
      "graph_100_0.5.txt 5.96\n",
      "graph_100_0.7.txt 4.710000000000001\n",
      "graph_100_0.9.txt 3.42\n",
      "graph_150_0.1.txt 21.8\n",
      "graph_150_0.3.txt 11.209999999999999\n",
      "graph_150_0.5.txt 7.24\n",
      "graph_150_0.7.txt 4.78\n",
      "graph_150_0.9.txt 3.4099999999999997\n",
      "graph_200_0.1.txt 23.32\n",
      "graph_200_0.3.txt 12.08\n",
      "graph_200_0.5.txt 7.97\n",
      "graph_200_0.7.txt 5.35\n",
      "graph_200_0.9.txt 3.2399999999999998\n"
     ]
    }
   ],
   "source": [
    "gurobi_results = []\n",
    "for file_name in files:\n",
    "    file_path = f'./{GRAPHS_DIR}/{file_name}'\n",
    "    result = solve_grb(file_path)\n",
    "    gurobi_results.append((file_name, result))\n",
    "    print(file_name, result['objective_value'])"
   ]
  },
  {
   "cell_type": "code",
   "execution_count": 16,
   "metadata": {},
   "outputs": [
    {
     "name": "stdout",
     "output_type": "stream",
     "text": [
      "graph_50_0.1.txt \t 0.05 \t 11.83 \t 20 \t\n",
      "graph_50_0.3.txt \t 0.07 \t 6.00 \t 8 \t\n",
      "graph_50_0.5.txt \t 0.04 \t 4.95 \t 8 \t\n",
      "graph_50_0.7.txt \t 0.05 \t 2.97 \t 4 \t\n",
      "graph_50_0.9.txt \t 0.02 \t 2.70 \t 3 \t\n",
      "graph_100_0.1.txt \t 0.11 \t 17.56 \t 27 \t\n",
      "graph_100_0.3.txt \t 0.26 \t 9.15 \t 14 \t\n",
      "graph_100_0.5.txt \t 0.24 \t 5.96 \t 9 \t\n",
      "graph_100_0.7.txt \t 0.15 \t 4.71 \t 6 \t\n",
      "graph_100_0.9.txt \t 0.10 \t 3.42 \t 4 \t\n",
      "graph_150_0.1.txt \t 0.70 \t 21.80 \t 33 \t\n",
      "graph_150_0.3.txt \t 1.06 \t 11.21 \t 15 \t\n",
      "graph_150_0.5.txt \t 1.27 \t 7.24 \t 10 \t\n",
      "graph_150_0.7.txt \t 1.12 \t 4.78 \t 6 \t\n",
      "graph_150_0.9.txt \t 0.25 \t 3.41 \t 5 \t\n",
      "graph_200_0.1.txt \t 13.99 \t 23.32 \t 34 \t\n",
      "graph_200_0.3.txt \t 7.32 \t 12.08 \t 16 \t\n",
      "graph_200_0.5.txt \t 5.37 \t 7.97 \t 11 \t\n",
      "graph_200_0.7.txt \t 3.72 \t 5.35 \t 6 \t\n",
      "graph_200_0.9.txt \t 1.17 \t 3.24 \t 4 \t\n"
     ]
    }
   ],
   "source": [
    "for res in gurobi_results:\n",
    "    print(res[0], '\\t', \"{:.2f}\".format(res[1]['elapsed_time']), '\\t', \"{:.2f}\".format(res[1]['objective_value']), '\\t', len(res[1]['selected_nodes']), '\\t')"
   ]
  },
  {
   "cell_type": "code",
   "execution_count": 6,
   "metadata": {},
   "outputs": [
    {
     "name": "stdout",
     "output_type": "stream",
     "text": [
      "graph_50_0.1.txt 10.200000000000001\n",
      "graph_50_0.3.txt 5.220000000000001\n",
      "graph_50_0.5.txt 3.8\n",
      "graph_50_0.7.txt 2.52\n",
      "graph_50_0.9.txt 2.7\n",
      "graph_100_0.1.txt 16.810000000000006\n",
      "graph_100_0.3.txt 8.18\n",
      "graph_100_0.5.txt 4.6899999999999995\n",
      "graph_100_0.7.txt 3.48\n",
      "graph_100_0.9.txt 1.94\n",
      "graph_150_0.1.txt 18.87\n",
      "graph_150_0.3.txt 7.84\n",
      "graph_150_0.5.txt 6.609999999999999\n",
      "graph_150_0.7.txt 3.19\n",
      "graph_150_0.9.txt 2.19\n",
      "graph_200_0.1.txt 19.41\n",
      "graph_200_0.3.txt 10.73\n",
      "graph_200_0.5.txt 6.93\n",
      "graph_200_0.7.txt 3.96\n",
      "graph_200_0.9.txt 2.7399999999999998\n"
     ]
    }
   ],
   "source": [
    "greedy_results = []\n",
    "for file_name in files:\n",
    "    file_path = f'./{GRAPHS_DIR}/{file_name}'\n",
    "    result = solve_gdy(file_path)\n",
    "    greedy_results.append((file_name, result))\n",
    "    print(file_name, result['objective_value'])"
   ]
  },
  {
   "cell_type": "code",
   "execution_count": 19,
   "metadata": {},
   "outputs": [
    {
     "name": "stdout",
     "output_type": "stream",
     "text": [
      "graph_50_0.1.txt \t 0.004 \t 10.20 \t 18 \t\n",
      "graph_50_0.3.txt \t 0.002 \t 5.22 \t 8 \t\n",
      "graph_50_0.5.txt \t 0.002 \t 3.80 \t 5 \t\n",
      "graph_50_0.7.txt \t 0.002 \t 2.52 \t 3 \t\n",
      "graph_50_0.9.txt \t 0.002 \t 2.70 \t 3 \t\n",
      "graph_100_0.1.txt \t 0.021 \t 16.81 \t 25 \t\n",
      "graph_100_0.3.txt \t 0.017 \t 8.18 \t 11 \t\n",
      "graph_100_0.5.txt \t 0.033 \t 4.69 \t 6 \t\n",
      "graph_100_0.7.txt \t 0.018 \t 3.48 \t 4 \t\n",
      "graph_100_0.9.txt \t 0.000 \t 1.94 \t 2 \t\n",
      "graph_150_0.1.txt \t 0.083 \t 18.87 \t 26 \t\n",
      "graph_150_0.3.txt \t 0.076 \t 7.84 \t 11 \t\n",
      "graph_150_0.5.txt \t 0.110 \t 6.61 \t 8 \t\n",
      "graph_150_0.7.txt \t 0.053 \t 3.19 \t 4 \t\n",
      "graph_150_0.9.txt \t 0.068 \t 2.19 \t 3 \t\n",
      "graph_200_0.1.txt \t 0.180 \t 19.41 \t 26 \t\n",
      "graph_200_0.3.txt \t 0.275 \t 10.73 \t 13 \t\n",
      "graph_200_0.5.txt \t 0.294 \t 6.93 \t 9 \t\n",
      "graph_200_0.7.txt \t 0.193 \t 3.96 \t 5 \t\n",
      "graph_200_0.9.txt \t 0.146 \t 2.74 \t 3 \t\n"
     ]
    }
   ],
   "source": [
    "for res in greedy_results:\n",
    "    print(res[0], '\\t', \"{:.3f}\".format(res[1]['elapsed_time']), '\\t', \"{:.2f}\".format(res[1]['objective_value']), '\\t', len(res[1]['selected_nodes']), '\\t')"
   ]
  },
  {
   "cell_type": "code",
   "execution_count": 7,
   "metadata": {},
   "outputs": [
    {
     "name": "stdout",
     "output_type": "stream",
     "text": [
      "graph_50_0.1.txt Done\n",
      "graph_50_0.3.txt Done\n",
      "graph_50_0.5.txt Done\n",
      "graph_50_0.7.txt Done\n",
      "graph_50_0.9.txt Done\n",
      "graph_100_0.1.txt Done\n",
      "graph_100_0.3.txt Done\n",
      "graph_100_0.5.txt Done\n",
      "graph_100_0.7.txt Done\n",
      "graph_100_0.9.txt Done\n",
      "graph_150_0.1.txt Done\n",
      "graph_150_0.3.txt Done\n",
      "graph_150_0.5.txt Done\n",
      "graph_150_0.7.txt Done\n",
      "graph_150_0.9.txt Done\n",
      "graph_200_0.1.txt Done\n",
      "graph_200_0.3.txt Done\n",
      "graph_200_0.5.txt Done\n",
      "graph_200_0.7.txt Done\n",
      "graph_200_0.9.txt Done\n"
     ]
    }
   ],
   "source": [
    "genetic_results = []\n",
    "for file_name in files:\n",
    "    file_path = f'./{GRAPHS_DIR}/{file_name}'\n",
    "    for no_of_gens in [50, 100]:\n",
    "        for pop_size in [50, 100]:\n",
    "            result = solve_gen(file_path, no_of_gens, pop_size)\n",
    "            genetic_results.append((file_name, result))\n",
    "    print(file_name, \"Done\")"
   ]
  },
  {
   "cell_type": "code",
   "execution_count": 24,
   "metadata": {},
   "outputs": [
    {
     "name": "stdout",
     "output_type": "stream",
     "text": [
      "graph_50_0.1.txt \t 2.40 \t 9.69 \t 17 \t Best solution has not improved in the last K=20 generations since Gen.22\n",
      "graph_50_0.3.txt \t 1.67 \t 5.60 \t 8 \t Best solution has not improved in the last K=20 generations since Gen.0\n",
      "graph_50_0.5.txt \t 1.25 \t 3.57 \t 5 \t Best solution has not improved in the last K=20 generations since Gen.0\n",
      "graph_50_0.7.txt \t 1.53 \t 2.36 \t 4 \t Best solution has not improved in the last K=20 generations since Gen.0\n",
      "graph_50_0.9.txt \t 0.84 \t 2.40 \t 3 \t Best solution has not improved in the last K=20 generations since Gen.0\n",
      "graph_100_0.1.txt \t 23.47 \t 11.87 \t 23 \t Best solution has not improved in the last K=20 generations since Gen.7\n",
      "graph_100_0.3.txt \t 26.95 \t 6.74 \t 11 \t Best solution has not improved in the last K=20 generations since Gen.3\n",
      "graph_100_0.5.txt \t 19.45 \t 3.63 \t 6 \t Best solution has not improved in the last K=20 generations since Gen.5\n",
      "graph_100_0.7.txt \t 10.22 \t 3.43 \t 4 \t Best solution has not improved in the last K=20 generations since Gen.0\n",
      "graph_100_0.9.txt \t 5.35 \t 2.64 \t 3 \t Best solution has not improved in the last K=20 generations since Gen.0\n",
      "graph_150_0.1.txt \t 57.32 \t 12.12 \t 23 \t Best solution has not improved in the last K=20 generations since Gen.0\n",
      "graph_150_0.3.txt \t 115.05 \t 7.60 \t 12 \t Best solution has not improved in the last K=20 generations since Gen.13\n",
      "graph_150_0.5.txt \t 87.73 \t 5.18 \t 7 \t Best solution has not improved in the last K=20 generations since Gen.7\n",
      "graph_150_0.7.txt \t 55.82 \t 3.22 \t 4 \t Best solution has not improved in the last K=20 generations since Gen.4\n",
      "graph_150_0.9.txt \t 19.58 \t 2.12 \t 3 \t Best solution has not improved in the last K=20 generations since Gen.0\n",
      "graph_200_0.1.txt \t 168.31 \t 15.09 \t 27 \t Best solution has not improved in the last K=20 generations since Gen.0\n",
      "graph_200_0.3.txt \t 168.07 \t 6.59 \t 12 \t Best solution has not improved in the last K=20 generations since Gen.0\n",
      "graph_200_0.5.txt \t 225.62 \t 5.46 \t 8 \t Best solution has not improved in the last K=20 generations since Gen.7\n",
      "graph_200_0.7.txt \t 126.15 \t 3.84 \t 5 \t Best solution has not improved in the last K=20 generations since Gen.2\n",
      "graph_200_0.9.txt \t 34.97 \t 2.17 \t 3 \t Best solution has not improved in the last K=20 generations since Gen.0\n"
     ]
    }
   ],
   "source": [
    "# no of gens: 50, pop size: 50\n",
    "for i, res in enumerate(genetic_results):\n",
    "    if i % 4 == 0:\n",
    "        print(res[0], '\\t', \"{:.2f}\".format(res[1]['elapsed_time']), '\\t', \"{:.2f}\".format(res[1]['objective_value']), '\\t', len(res[1]['selected_nodes']), '\\t', res[1]['description'])"
   ]
  },
  {
   "cell_type": "code",
   "execution_count": 25,
   "metadata": {},
   "outputs": [
    {
     "name": "stdout",
     "output_type": "stream",
     "text": [
      "graph_50_0.1.txt \t 2.50 \t 8.28 \t 15 \t Best solution has not improved in the last K=20 generations since Gen.0\n",
      "graph_50_0.3.txt \t 8.47 \t 5.52 \t 8 \t Best solution has not improved in the last K=20 generations since Gen.24\n",
      "graph_50_0.5.txt \t 2.65 \t 3.83 \t 5 \t Best solution has not improved in the last K=20 generations since Gen.0\n",
      "graph_50_0.7.txt \t 2.07 \t 2.41 \t 3 \t Best solution has not improved in the last K=20 generations since Gen.4\n",
      "graph_50_0.9.txt \t 1.61 \t 2.40 \t 3 \t Best solution has not improved in the last K=20 generations since Gen.0\n",
      "graph_100_0.1.txt \t 62.13 \t 13.88 \t 23 \t Best solution has not improved in the last K=20 generations since Gen.16\n",
      "graph_100_0.3.txt \t 42.76 \t 7.04 \t 10 \t Best solution has not improved in the last K=20 generations since Gen.0\n",
      "graph_100_0.5.txt \t 61.03 \t 4.23 \t 6 \t Best solution has not improved in the last K=20 generations since Gen.16\n",
      "graph_100_0.7.txt \t 24.12 \t 3.64 \t 5 \t Best solution has not improved in the last K=20 generations since Gen.5\n",
      "graph_100_0.9.txt \t 10.53 \t 2.64 \t 3 \t Best solution has not improved in the last K=20 generations since Gen.0\n",
      "graph_150_0.1.txt \t 336.96 \t 13.93 \t 27 \t \n",
      "graph_150_0.3.txt \t 269.96 \t 7.47 \t 12 \t Best solution has not improved in the last K=20 generations since Gen.19\n",
      "graph_150_0.5.txt \t 135.11 \t 5.99 \t 9 \t Best solution has not improved in the last K=20 generations since Gen.0\n",
      "graph_150_0.7.txt \t 72.70 \t 2.78 \t 4 \t Best solution has not improved in the last K=20 generations since Gen.0\n",
      "graph_150_0.9.txt \t 37.08 \t 2.26 \t 4 \t Best solution has not improved in the last K=20 generations since Gen.0\n",
      "graph_200_0.1.txt \t 318.59 \t 13.85 \t 24 \t Best solution has not improved in the last K=20 generations since Gen.0\n",
      "graph_200_0.3.txt \t 548.28 \t 7.70 \t 11 \t Best solution has not improved in the last K=20 generations since Gen.12\n",
      "graph_200_0.5.txt \t 621.99 \t 5.96 \t 9 \t Best solution has not improved in the last K=20 generations since Gen.18\n",
      "graph_200_0.7.txt \t 275.16 \t 3.89 \t 6 \t Best solution has not improved in the last K=20 generations since Gen.3\n",
      "graph_200_0.9.txt \t 74.07 \t 2.29 \t 3 \t Best solution has not improved in the last K=20 generations since Gen.0\n"
     ]
    }
   ],
   "source": [
    "# no of gens: 50, pop size: 100\n",
    "for i, res in enumerate(genetic_results):\n",
    "    if i % 4 == 1:\n",
    "        print(res[0], '\\t', \"{:.2f}\".format(res[1]['elapsed_time']), '\\t', \"{:.2f}\".format(res[1]['objective_value']), '\\t', len(res[1]['selected_nodes']), '\\t', res[1]['description'])"
   ]
  },
  {
   "cell_type": "code",
   "execution_count": 26,
   "metadata": {},
   "outputs": [
    {
     "name": "stdout",
     "output_type": "stream",
     "text": [
      "graph_50_0.1.txt \t 2.54 \t 7.98 \t 17 \t Best solution has not improved in the last K=20 generations since Gen.18\n",
      "graph_50_0.3.txt \t 3.70 \t 5.86 \t 9 \t Best solution has not improved in the last K=20 generations since Gen.12\n",
      "graph_50_0.5.txt \t 2.52 \t 4.31 \t 6 \t Best solution has not improved in the last K=20 generations since Gen.9\n",
      "graph_50_0.7.txt \t 0.98 \t 2.60 \t 5 \t Best solution has not improved in the last K=20 generations since Gen.0\n",
      "graph_50_0.9.txt \t 0.85 \t 2.31 \t 3 \t Best solution has not improved in the last K=20 generations since Gen.0\n",
      "graph_100_0.1.txt \t 21.67 \t 11.88 \t 20 \t Best solution has not improved in the last K=20 generations since Gen.9\n",
      "graph_100_0.3.txt \t 19.58 \t 7.75 \t 10 \t Best solution has not improved in the last K=20 generations since Gen.0\n",
      "graph_100_0.5.txt \t 14.78 \t 3.32 \t 6 \t Best solution has not improved in the last K=20 generations since Gen.0\n",
      "graph_100_0.7.txt \t 9.36 \t 3.46 \t 4 \t Best solution has not improved in the last K=20 generations since Gen.0\n",
      "graph_100_0.9.txt \t 5.30 \t 2.64 \t 3 \t Best solution has not improved in the last K=20 generations since Gen.0\n",
      "graph_150_0.1.txt \t 124.13 \t 13.65 \t 25 \t Best solution has not improved in the last K=20 generations since Gen.18\n",
      "graph_150_0.3.txt \t 103.93 \t 6.91 \t 10 \t Best solution has not improved in the last K=20 generations since Gen.9\n",
      "graph_150_0.5.txt \t 64.23 \t 5.41 \t 8 \t Best solution has not improved in the last K=20 generations since Gen.0\n",
      "graph_150_0.7.txt \t 34.10 \t 3.59 \t 4 \t Best solution has not improved in the last K=20 generations since Gen.0\n",
      "graph_150_0.9.txt \t 24.13 \t 2.35 \t 3 \t Best solution has not improved in the last K=20 generations since Gen.0\n",
      "graph_200_0.1.txt \t 167.94 \t 14.12 \t 25 \t Best solution has not improved in the last K=20 generations since Gen.0\n",
      "graph_200_0.3.txt \t 329.75 \t 7.52 \t 12 \t Best solution has not improved in the last K=20 generations since Gen.14\n",
      "graph_200_0.5.txt \t 201.28 \t 4.96 \t 7 \t Best solution has not improved in the last K=20 generations since Gen.7\n",
      "graph_200_0.7.txt \t 96.84 \t 3.89 \t 6 \t Best solution has not improved in the last K=20 generations since Gen.0\n",
      "graph_200_0.9.txt \t 40.88 \t 2.05 \t 3 \t Best solution has not improved in the last K=20 generations since Gen.0\n"
     ]
    }
   ],
   "source": [
    "# no of gens: 100, pop size: 50\n",
    "for i, res in enumerate(genetic_results):\n",
    "    if i % 4 == 2:\n",
    "        print(res[0], '\\t', \"{:.2f}\".format(res[1]['elapsed_time']), '\\t', \"{:.2f}\".format(res[1]['objective_value']), '\\t', len(res[1]['selected_nodes']), '\\t', res[1]['description'])"
   ]
  },
  {
   "cell_type": "code",
   "execution_count": 27,
   "metadata": {},
   "outputs": [
    {
     "name": "stdout",
     "output_type": "stream",
     "text": [
      "graph_50_0.1.txt \t 5.58 \t 8.97 \t 17 \t Best solution has not improved in the last K=20 generations since Gen.24\n",
      "graph_50_0.3.txt \t 6.49 \t 5.67 \t 8 \t Best solution has not improved in the last K=20 generations since Gen.15\n",
      "graph_50_0.5.txt \t 4.58 \t 4.31 \t 6 \t Best solution has not improved in the last K=20 generations since Gen.6\n",
      "graph_50_0.7.txt \t 1.95 \t 2.36 \t 4 \t Best solution has not improved in the last K=20 generations since Gen.0\n",
      "graph_50_0.9.txt \t 1.65 \t 2.31 \t 3 \t Best solution has not improved in the last K=20 generations since Gen.0\n",
      "graph_100_0.1.txt \t 68.08 \t 13.86 \t 26 \t Best solution has not improved in the last K=20 generations since Gen.19\n",
      "graph_100_0.3.txt \t 42.07 \t 6.77 \t 12 \t Best solution has not improved in the last K=20 generations since Gen.0\n",
      "graph_100_0.5.txt \t 30.09 \t 3.84 \t 6 \t Best solution has not improved in the last K=20 generations since Gen.0\n",
      "graph_100_0.7.txt \t 21.60 \t 3.46 \t 4 \t Best solution has not improved in the last K=20 generations since Gen.0\n",
      "graph_100_0.9.txt \t 10.41 \t 2.64 \t 3 \t Best solution has not improved in the last K=20 generations since Gen.0\n",
      "graph_150_0.1.txt \t 164.51 \t 12.63 \t 23 \t Best solution has not improved in the last K=20 generations since Gen.10\n",
      "graph_150_0.3.txt \t 237.08 \t 7.42 \t 12 \t Best solution has not improved in the last K=20 generations since Gen.13\n",
      "graph_150_0.5.txt \t 118.07 \t 5.55 \t 8 \t Best solution has not improved in the last K=20 generations since Gen.0\n",
      "graph_150_0.7.txt \t 80.39 \t 3.59 \t 5 \t Best solution has not improved in the last K=20 generations since Gen.0\n",
      "graph_150_0.9.txt \t 47.15 \t 2.26 \t 4 \t Best solution has not improved in the last K=20 generations since Gen.0\n",
      "graph_200_0.1.txt \t 762.90 \t 15.73 \t 27 \t Best solution has not improved in the last K=20 generations since Gen.26\n",
      "graph_200_0.3.txt \t 694.41 \t 7.66 \t 11 \t Best solution has not improved in the last K=20 generations since Gen.22\n",
      "graph_200_0.5.txt \t 436.38 \t 5.38 \t 8 \t Best solution has not improved in the last K=20 generations since Gen.8\n",
      "graph_200_0.7.txt \t 329.73 \t 3.89 \t 6 \t Best solution has not improved in the last K=20 generations since Gen.10\n",
      "graph_200_0.9.txt \t 87.11 \t 2.48 \t 4 \t Best solution has not improved in the last K=20 generations since Gen.0\n"
     ]
    }
   ],
   "source": [
    "# no of gens: 100, pop size: 100\n",
    "for i, res in enumerate(genetic_results):\n",
    "    if i % 4 == 3:\n",
    "        print(res[0], '\\t', \"{:.2f}\".format(res[1]['elapsed_time']), '\\t', \"{:.2f}\".format(res[1]['objective_value']), '\\t', len(res[1]['selected_nodes']), '\\t', res[1]['description'])"
   ]
  }
 ],
 "metadata": {
  "kernelspec": {
   "display_name": "virtualenv",
   "language": "python",
   "name": "python3"
  },
  "language_info": {
   "codemirror_mode": {
    "name": "ipython",
    "version": 3
   },
   "file_extension": ".py",
   "mimetype": "text/x-python",
   "name": "python",
   "nbconvert_exporter": "python",
   "pygments_lexer": "ipython3",
   "version": "3.12.0"
  }
 },
 "nbformat": 4,
 "nbformat_minor": 2
}
