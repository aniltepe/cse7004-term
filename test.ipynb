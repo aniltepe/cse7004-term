{
 "cells": [
  {
   "cell_type": "code",
   "execution_count": 6,
   "metadata": {},
   "outputs": [],
   "source": [
    "import scipy.sparse as sp\n",
    "import networkx as nx\n",
    "import numpy as np\n",
    "from gurobi_optimods.mwis import maximum_weighted_independent_set"
   ]
  },
  {
   "cell_type": "code",
   "execution_count": 35,
   "metadata": {},
   "outputs": [],
   "source": [
    "graphs_dir = './graphs'\n",
    "graph_name = 'graph_50_0.1.txt'\n",
    "f = open(f'{graphs_dir}/{graph_name}', 'r')\n",
    "lines = f.read().split('\\n')\n",
    "no_of_nodes = int(lines[0])\n",
    "no_of_edges = int(lines[1])\n",
    "node_weights = [float(lines[i].split(' ')[1]) for i in range(2, no_of_nodes + 2)]\n",
    "edges = [(int(lines[i].split(' ')[0]), int(lines[i].split(' ')[1])) for i in range(no_of_nodes + 2, no_of_nodes + no_of_edges + 2)]"
   ]
  },
  {
   "cell_type": "code",
   "execution_count": 51,
   "metadata": {},
   "outputs": [],
   "source": [
    "G = nx.Graph()"
   ]
  },
  {
   "cell_type": "code",
   "execution_count": 52,
   "metadata": {},
   "outputs": [],
   "source": [
    "for i, w in enumerate(node_weights):\n",
    "    G.add_node(i)\n",
    "for e in edges:\n",
    "    G.add_edge(e[0], e[1])\n",
    "weights = np.array(node_weights)"
   ]
  },
  {
   "cell_type": "code",
   "execution_count": 53,
   "metadata": {},
   "outputs": [
    {
     "name": "stdout",
     "output_type": "stream",
     "text": [
      "Set parameter Username\n",
      "Academic license - for non-commercial use only - expires 2025-02-28\n",
      "Gurobi Optimizer version 11.0.1 build v11.0.1rc0 (win64 - Windows 11.0 (22631.2))\n",
      "\n",
      "CPU model: AMD Ryzen 5 5500U with Radeon Graphics, instruction set [SSE2|AVX|AVX2]\n",
      "Thread count: 6 physical cores, 12 logical processors, using up to 12 threads\n",
      "\n",
      "Optimize a model with 141 rows, 50 columns and 282 nonzeros\n",
      "Model fingerprint: 0x95f9106a\n",
      "Variable types: 0 continuous, 50 integer (50 binary)\n",
      "Coefficient statistics:\n",
      "  Matrix range     [1e+00, 1e+00]\n",
      "  Objective range  [2e-02, 1e+00]\n",
      "  Bounds range     [1e+00, 1e+00]\n",
      "  RHS range        [1e+00, 1e+00]\n",
      "Found heuristic solution: objective 9.0400000\n",
      "Presolve removed 52 rows and 5 columns\n",
      "Presolve time: 0.00s\n",
      "Presolved: 89 rows, 45 columns, 210 nonzeros\n",
      "Variable types: 0 continuous, 45 integer (45 binary)\n",
      "Found heuristic solution: objective 10.3700000\n",
      "\n",
      "Root relaxation: objective 1.158000e+01, 32 iterations, 0.00 seconds (0.00 work units)\n",
      "\n",
      "    Nodes    |    Current Node    |     Objective Bounds      |     Work\n",
      " Expl Unexpl |  Obj  Depth IntInf | Incumbent    BestBd   Gap | It/Node Time\n",
      "\n",
      "     0     0   11.58000    0   30   10.37000   11.58000  11.7%     -    0s\n",
      "H    0     0                      10.6500000   11.58000  8.73%     -    0s\n",
      "H    0     0                      11.1000000   11.58000  4.32%     -    0s\n",
      "H    0     0                      11.1600000   11.16000  0.00%     -    0s\n",
      "     0     0          -    0        11.16000   11.16000  0.00%     -    0s\n",
      "\n",
      "Cutting planes:\n",
      "  Zero half: 3\n",
      "  BQP: 2\n",
      "\n",
      "Explored 1 nodes (42 simplex iterations) in 0.08 seconds (0.00 work units)\n",
      "Thread count was 12 (of 12 available processors)\n",
      "\n",
      "Solution count 5: 11.16 11.1 10.65 ... 9.04\n",
      "\n",
      "Optimal solution found (tolerance 1.00e-04)\n",
      "Best objective 1.116000000000e+01, best bound 1.116000000000e+01, gap 0.0000%\n"
     ]
    }
   ],
   "source": [
    "adjacency_matrix = sp.triu(nx.to_scipy_sparse_array(G))\n",
    "mwis = maximum_weighted_independent_set(adjacency_matrix, weights)"
   ]
  },
  {
   "cell_type": "code",
   "execution_count": 54,
   "metadata": {},
   "outputs": [
    {
     "data": {
      "text/plain": [
       "array([ 1,  3,  5,  9, 13, 16, 17, 22, 23, 26, 27, 32, 33, 39, 41, 43, 49],\n",
       "      dtype=int64)"
      ]
     },
     "execution_count": 54,
     "metadata": {},
     "output_type": "execute_result"
    }
   ],
   "source": [
    "mwis"
   ]
  },
  {
   "cell_type": "code",
   "execution_count": 56,
   "metadata": {},
   "outputs": [
    {
     "data": {
      "text/plain": [
       "11.159999999999998"
      ]
     },
     "execution_count": 56,
     "metadata": {},
     "output_type": "execute_result"
    }
   ],
   "source": [
    "maximum_vertex_weight = sum(weights[mwis])\n",
    "maximum_vertex_weight"
   ]
  }
 ],
 "metadata": {
  "kernelspec": {
   "display_name": "virtualenv",
   "language": "python",
   "name": "python3"
  },
  "language_info": {
   "codemirror_mode": {
    "name": "ipython",
    "version": 3
   },
   "file_extension": ".py",
   "mimetype": "text/x-python",
   "name": "python",
   "nbconvert_exporter": "python",
   "pygments_lexer": "ipython3",
   "version": "3.12.0"
  }
 },
 "nbformat": 4,
 "nbformat_minor": 2
}
